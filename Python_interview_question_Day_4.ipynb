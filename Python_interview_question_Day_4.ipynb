{
  "nbformat": 4,
  "nbformat_minor": 0,
  "metadata": {
    "colab": {
      "provenance": [],
      "authorship_tag": "ABX9TyPVHqKkrskpXhDXo7eVlGCN",
      "include_colab_link": true
    },
    "kernelspec": {
      "name": "python3",
      "display_name": "Python 3"
    },
    "language_info": {
      "name": "python"
    }
  },
  "cells": [
    {
      "cell_type": "markdown",
      "metadata": {
        "id": "view-in-github",
        "colab_type": "text"
      },
      "source": [
        "<a href=\"https://colab.research.google.com/github/abhishek0478/Python-data-analysis-projects/blob/main/Python_interview_question_Day_4.ipynb\" target=\"_parent\"><img src=\"https://colab.research.google.com/assets/colab-badge.svg\" alt=\"Open In Colab\"/></a>"
      ]
    },
    {
      "cell_type": "code",
      "execution_count": 5,
      "metadata": {
        "colab": {
          "base_uri": "https://localhost:8080/"
        },
        "id": "IcvHJfKfsRHS",
        "outputId": "6d1aa184-ae7b-4e12-a5a5-1fce9f28271f"
      },
      "outputs": [
        {
          "output_type": "stream",
          "name": "stdout",
          "text": [
            "156\n",
            "yes\n"
          ]
        }
      ],
      "source": [
        "#Check if the number in Hardhad/Niven number .If the number is divisible by sum of its digits.\n",
        "n = int(input())\n",
        "m = n\n",
        "sum = 0\n",
        "prod = 1\n",
        "\n",
        "while m!= 0:\n",
        "  d=m%10\n",
        "  m = m//10\n",
        "  sum = sum+d\n",
        "if n%sum ==0:\n",
        "  print(\"yes\")\n",
        "else:\n",
        "  print(\"No\")"
      ]
    },
    {
      "cell_type": "code",
      "source": [
        "#Check if a number is duck number or not, whether it contains 0 or not.\n",
        "\n",
        "n = int(input())\n",
        "m = n\n",
        "count = 0\n",
        "while m!=0:\n",
        "  d = m%10\n",
        "  m = m//10\n",
        "  if d == 0: count+=1\n",
        "if count>0:\n",
        "  print(\"yes\")\n",
        "else:\n",
        "  print(\"No\")\n",
        "print(\"No of zeros:\",count)"
      ],
      "metadata": {
        "colab": {
          "base_uri": "https://localhost:8080/"
        },
        "id": "M8vovZL-xH1Q",
        "outputId": "319cc199-da10-422f-9525-fb51b9ba6692"
      },
      "execution_count": 6,
      "outputs": [
        {
          "output_type": "stream",
          "name": "stdout",
          "text": [
            "12000\n",
            "yes\n",
            "No of zers: 3\n"
          ]
        }
      ]
    },
    {
      "cell_type": "code",
      "source": [
        "#Check if the number id neon number or not.\n",
        "#number digits of whose square are equal to number itself\n",
        "\n",
        "n = 9\n",
        "m = n**2\n",
        "sum = 0\n",
        "prod= 1\n",
        "while m!= 0:\n",
        "  d = m%10\n",
        "  sum = sum+d\n",
        "  m = m//10\n",
        "\n",
        "if sum == n:\n",
        "  print(\"yes\")\n",
        "else:\n",
        "  print(\"No\")"
      ],
      "metadata": {
        "colab": {
          "base_uri": "https://localhost:8080/"
        },
        "id": "KHz4KEDMyF3y",
        "outputId": "16f09cde-615f-496e-c4b6-161cabb32600"
      },
      "execution_count": 10,
      "outputs": [
        {
          "output_type": "stream",
          "name": "stdout",
          "text": [
            "yes\n"
          ]
        }
      ]
    },
    {
      "cell_type": "code",
      "source": [
        "#Check if a number is automorphic number or not, it is a number which is contaiined in the last digits of its square.\n",
        "n = 9\n",
        "flag = 0\n",
        "m = n\n",
        "q = n*n\n",
        "while m!=0:\n",
        "  d= m%10; d1=q%10\n",
        "  if d!=d1:flag = 1\n",
        "  m = m//10; q = q//10\n",
        "if flag ==0:\n",
        "  print(\"Yes\")\n",
        "else:\n",
        "  print(\"No\")\n"
      ],
      "metadata": {
        "colab": {
          "base_uri": "https://localhost:8080/"
        },
        "id": "8BiF6wanyMBN",
        "outputId": "b846b35f-ea9f-45ac-8add-1e9c57f2443d"
      },
      "execution_count": 13,
      "outputs": [
        {
          "output_type": "stream",
          "name": "stdout",
          "text": [
            "No\n"
          ]
        }
      ]
    },
    {
      "cell_type": "code",
      "source": [
        "n = int(input())\n",
        "for i in range(1,n+1):\n",
        "  if n%i ==0:\n",
        "    print(i,end = \" \")"
      ],
      "metadata": {
        "colab": {
          "base_uri": "https://localhost:8080/"
        },
        "id": "WRmcgalk_dNg",
        "outputId": "2a5e8943-d6bd-482c-8709-5054fc7881b8"
      },
      "execution_count": 16,
      "outputs": [
        {
          "output_type": "stream",
          "name": "stdout",
          "text": [
            "20\n",
            "1 2 4 5 10 20 "
          ]
        }
      ]
    },
    {
      "cell_type": "code",
      "source": [
        "n = int(input())\n",
        "Sum = 0\n",
        "for i in range(1, n):  # Corrected range\n",
        "  if n % i == 0:\n",
        "    Sum = Sum + i  # Fixed variable name\n",
        "\n",
        "if n == Sum:\n",
        "    print(\"yes\")\n",
        "else:\n",
        "    print(\"No\")\n"
      ],
      "metadata": {
        "colab": {
          "base_uri": "https://localhost:8080/"
        },
        "id": "YtZPy1XyH-VS",
        "outputId": "9cba648b-b54e-4040-f9f0-400790e4f53a"
      },
      "execution_count": 37,
      "outputs": [
        {
          "output_type": "stream",
          "name": "stdout",
          "text": [
            "6\n",
            "yes\n"
          ]
        }
      ]
    },
    {
      "cell_type": "code",
      "source": [],
      "metadata": {
        "id": "x4DvCRuhK8c8"
      },
      "execution_count": null,
      "outputs": []
    }
  ]
}