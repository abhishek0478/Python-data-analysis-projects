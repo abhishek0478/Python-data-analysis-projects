{
  "nbformat": 4,
  "nbformat_minor": 0,
  "metadata": {
    "colab": {
      "provenance": [],
      "authorship_tag": "ABX9TyOD69D/Crg3cfog+R6YjZp7"
    },
    "kernelspec": {
      "name": "python3",
      "display_name": "Python 3"
    },
    "language_info": {
      "name": "python"
    }
  },
  "cells": [
    {
      "cell_type": "code",
      "execution_count": null,
      "metadata": {
        "colab": {
          "base_uri": "https://localhost:8080/"
        },
        "id": "5rjkm5izxlnj",
        "outputId": "ad24be49-2ede-4252-f909-587061e9bb6c"
      },
      "outputs": [
        {
          "output_type": "stream",
          "name": "stdout",
          "text": [
            "2\n"
          ]
        }
      ],
      "source": [
        "#Counting of number of occurences in a word\n",
        "\n",
        "word = \"programming\"\n",
        "character = 'g'\n",
        "count = 0\n",
        "for i in word:\n",
        "  if i == character:\n",
        "    count +=1\n",
        "print(count)"
      ]
    },
    {
      "cell_type": "code",
      "source": [
        "# writing fibbonaci series\n",
        "fib = [0,1]\n",
        "n = 5\n",
        "for i in range(n):\n",
        "  fib.append(fib[-1]+fib[-2])\n",
        "\n",
        "print(','.join(str(e) for e in fib))\n"
      ],
      "metadata": {
        "colab": {
          "base_uri": "https://localhost:8080/"
        },
        "id": "Y0-KMRHzyFVn",
        "outputId": "f876eeda-2291-4512-da50-b3ef07f9382d"
      },
      "execution_count": null,
      "outputs": [
        {
          "output_type": "stream",
          "name": "stdout",
          "text": [
            "0,1,1,2,3,5,8\n"
          ]
        }
      ]
    },
    {
      "cell_type": "code",
      "source": [
        "#Finding the maximum number in a list\n",
        "\n",
        "numlist = [12,3,55,23,6,78,33,4]\n",
        "max = numlist[0]\n",
        "for num in numlist:\n",
        "  if max<num:\n",
        "    max = num\n",
        "print(max)"
      ],
      "metadata": {
        "colab": {
          "base_uri": "https://localhost:8080/"
        },
        "id": "a-f0LumZzyD_",
        "outputId": "0e42e938-c460-4fbb-f683-fc1cb09d9f11"
      },
      "execution_count": null,
      "outputs": [
        {
          "output_type": "stream",
          "name": "stdout",
          "text": [
            "78\n"
          ]
        }
      ]
    },
    {
      "cell_type": "code",
      "source": [
        "# Finding the minimum number in the list\n",
        "numlist = [12,3,55,23,6,78,33,4]\n",
        "min = numlist[0]\n",
        "for num in numlist:\n",
        "  if min>num:\n",
        "    min = num\n",
        "    print(min)"
      ],
      "metadata": {
        "colab": {
          "base_uri": "https://localhost:8080/"
        },
        "id": "g8430Zot1CvM",
        "outputId": "c2be6257-191d-42c1-ddf9-8c6da06c42f6"
      },
      "execution_count": null,
      "outputs": [
        {
          "output_type": "stream",
          "name": "stdout",
          "text": [
            "3\n"
          ]
        }
      ]
    },
    {
      "cell_type": "code",
      "source": [
        "#Finding the middle element in a list\n",
        "numlist = [12,3,55,23,6,78,33,5,34]\n",
        "midelement = int((len(numlist)/2))\n",
        "print(numlist[midelement])"
      ],
      "metadata": {
        "colab": {
          "base_uri": "https://localhost:8080/"
        },
        "id": "9dW9o4Ix15jN",
        "outputId": "0ad29dfb-ca3b-4ddb-eaee-039f2f976c54"
      },
      "execution_count": null,
      "outputs": [
        {
          "output_type": "stream",
          "name": "stdout",
          "text": [
            "6\n"
          ]
        }
      ]
    },
    {
      "cell_type": "code",
      "source": [
        "#Converting a list into a string\n",
        "list = [\"p\",\"y\",\"t\",\"h\",\"o\",\"n\"]\n",
        "string= \"\".join(list)\n",
        "print(string)"
      ],
      "metadata": {
        "colab": {
          "base_uri": "https://localhost:8080/"
        },
        "id": "yf7VnVdL2c3M",
        "outputId": "8e14f168-c7f1-47d4-f43e-259ded2d70ac"
      },
      "execution_count": null,
      "outputs": [
        {
          "output_type": "stream",
          "name": "stdout",
          "text": [
            "python\n"
          ]
        }
      ]
    },
    {
      "cell_type": "code",
      "source": [
        "#Adding two list element together\n",
        "lst1 = [1,2,3]\n",
        "lst2 = [4,5,6]\n",
        "\n",
        "res_lst = []\n",
        "for i in range(0, len(lst1)):\n",
        "  res_lst.append(lst1[i] +lst2[i])\n",
        "print(res_lst)"
      ],
      "metadata": {
        "colab": {
          "base_uri": "https://localhost:8080/"
        },
        "id": "123b67CC22zg",
        "outputId": "b3ef1310-1300-485a-db4f-fbbccf08f75e"
      },
      "execution_count": null,
      "outputs": [
        {
          "output_type": "stream",
          "name": "stdout",
          "text": [
            "[5, 7, 9]\n"
          ]
        }
      ]
    },
    {
      "cell_type": "code",
      "source": [
        "#Comapring 2 strings for anagrams\n",
        "str1 = \"listen\"\n",
        "str2 = \"silent\"\n",
        "\n",
        "str1.replace(\" \",\"\").upper()\n",
        "str2.replace(\" \",\"\").upper()\n",
        "\n",
        "if sorted(str1) == sorted(str2):\n",
        "  print(\"anagrams\")\n",
        "else:\n",
        "  print(\"not anagrams\")\n",
        "\n"
      ],
      "metadata": {
        "colab": {
          "base_uri": "https://localhost:8080/"
        },
        "id": "wiWXDDUy3rSV",
        "outputId": "2da0ab50-fc1c-4fa3-bb9b-654389454427"
      },
      "execution_count": null,
      "outputs": [
        {
          "output_type": "stream",
          "name": "stdout",
          "text": [
            "anagrams\n"
          ]
        }
      ]
    },
    {
      "cell_type": "code",
      "source": [
        "#Checking for palindrome\n",
        "str1 = \"kayak\".lower()\n",
        "\n",
        "if str1 ==str1[::-1]:\n",
        "  print(True)\n",
        "else:\n",
        "  print(False)"
      ],
      "metadata": {
        "colab": {
          "base_uri": "https://localhost:8080/"
        },
        "id": "b-9bL4NE4O70",
        "outputId": "9555d1b2-6e31-4655-98cc-e13dddb4adab"
      },
      "execution_count": null,
      "outputs": [
        {
          "output_type": "stream",
          "name": "stdout",
          "text": [
            "True\n"
          ]
        }
      ]
    },
    {
      "cell_type": "code",
      "source": [
        "#Counting Digits letters and spaces in the string\n",
        "import re\n",
        "\n",
        "name = \"Python is 1\"\n",
        "\n",
        "digitcount= re.sub(\"[^0-9]\",\"\",name)\n",
        "lettercount = re.sub(\"[^a-zA-Z]\",\"\", name)\n",
        "spacecount = re.findall(\"[\\s]\",name)\n",
        "\n",
        "print(len(digitcount))\n",
        "print(len(lettercount))\n",
        "print(len(spacecount))"
      ],
      "metadata": {
        "colab": {
          "base_uri": "https://localhost:8080/"
        },
        "id": "pwL5Nz8w4kwM",
        "outputId": "09baa2cc-aab3-4a10-f6f5-cd33b00320d4"
      },
      "execution_count": null,
      "outputs": [
        {
          "output_type": "stream",
          "name": "stdout",
          "text": [
            "1\n",
            "8\n",
            "2\n"
          ]
        }
      ]
    },
    {
      "cell_type": "code",
      "source": [
        "from tokenize import Special\n",
        "#Counting special characters in a string\n",
        "def count_sp_char(string):\n",
        "  sp_char = \"!@#$%^&*()<>?/\\[]{};:~`\"\n",
        "  count = 0\n",
        "  for i in string :\n",
        "    if i in sp_char:\n",
        "      count+=1\n",
        "  return count\n",
        "\n",
        "text = \"Hello! How are you?#specialchars!123\"\n",
        "result = count_sp_char(text)\n",
        "print(result)\n"
      ],
      "metadata": {
        "colab": {
          "base_uri": "https://localhost:8080/"
        },
        "id": "HJHGOF2z5hdW",
        "outputId": "6eb84309-9685-4967-eaeb-ad4af5abacf9"
      },
      "execution_count": null,
      "outputs": [
        {
          "output_type": "stream",
          "name": "stdout",
          "text": [
            "4\n"
          ]
        }
      ]
    },
    {
      "cell_type": "code",
      "source": [
        "#Building a pyramid in python\n",
        "def pyramid(n):\n",
        "  for i in range(n):\n",
        "    for j in range(i,n):\n",
        "      print(\" \",end = \"\")\n",
        "    for j in range(i+1):\n",
        "      print(\"*\",end = \"\")\n",
        "    print(\"\")\n",
        "pyramid(5)"
      ],
      "metadata": {
        "colab": {
          "base_uri": "https://localhost:8080/"
        },
        "id": "8hfMopbU6jJA",
        "outputId": "a83eccaa-bb80-40ff-b488-e762bfc55041"
      },
      "execution_count": null,
      "outputs": [
        {
          "output_type": "stream",
          "name": "stdout",
          "text": [
            "     *\n",
            "    **\n",
            "   ***\n",
            "  ****\n",
            " *****\n"
          ]
        }
      ]
    },
    {
      "cell_type": "code",
      "source": [
        "#Randomizing the items of a list in python\n",
        "from random import shuffle\n",
        "\n",
        "lst = ['python','is','easy']\n",
        "shuffle(lst)\n",
        "print(lst)"
      ],
      "metadata": {
        "colab": {
          "base_uri": "https://localhost:8080/"
        },
        "id": "-8WElHHH8Xe2",
        "outputId": "8509a2c0-f4e2-4474-dd7d-ffe3154ad393"
      },
      "execution_count": null,
      "outputs": [
        {
          "output_type": "stream",
          "name": "stdout",
          "text": [
            "['python', 'easy', 'is']\n"
          ]
        }
      ]
    },
    {
      "cell_type": "code",
      "source": [
        "#Create a generator to produce first n prime numbers\n",
        "\n",
        "def isprime(num):\n",
        "  for i in range(2,num):\n",
        "    if num%i == 0:\n",
        "      return False\n",
        "  return True\n",
        "\n",
        "def prime_generator(n):\n",
        "  num = 2\n",
        "  while n:\n",
        "    if isprime(num):\n",
        "      yield num\n",
        "      n-=1\n",
        "    num+=1\n",
        "\n",
        "x = int(input(\"enter no.of prime numbers required\"))\n",
        "it = prime_generator(x)\n",
        "for e in it:\n",
        "  print(e,end =\" \")"
      ],
      "metadata": {
        "colab": {
          "base_uri": "https://localhost:8080/"
        },
        "id": "IIcDhAJC8rCi",
        "outputId": "35045e24-f698-4c27-a0b9-ca46c8948351"
      },
      "execution_count": null,
      "outputs": [
        {
          "output_type": "stream",
          "name": "stdout",
          "text": [
            "enter no.of prime numbers required5\n",
            "2 3 5 7 11 "
          ]
        }
      ]
    },
    {
      "cell_type": "code",
      "source": [
        "#Implementing variable lenght argument in python\n",
        "def Average(*t):\n",
        "  avg = sum(t)/len(t)\n",
        "  return avg\n",
        "result1 = Average(32,51,44,43,54,65,76,56)\n",
        "\n",
        "print(result1)\n",
        "\n"
      ],
      "metadata": {
        "colab": {
          "base_uri": "https://localhost:8080/"
        },
        "id": "QRv_DCCMDlAJ",
        "outputId": "c58711d0-f7e3-44da-d3f1-5557161141ef"
      },
      "execution_count": 1,
      "outputs": [
        {
          "output_type": "stream",
          "name": "stdout",
          "text": [
            "52.625\n"
          ]
        }
      ]
    },
    {
      "cell_type": "code",
      "source": [
        "from pickle import TUPLE2\n",
        "#Creating instance member variable in python\n",
        "class Test:\n",
        "  def __init__(self):\n",
        "    self.a = 5\n",
        "  def f1(self):\n",
        "    self.b = 10\n",
        "\n",
        "t1 = Test()\n",
        "t2 = Test()\n",
        "t1.f1\n",
        "t1.c = 15\n",
        "print(t1.__dict__)\n",
        "print(t2.__dict__)\n",
        "\n",
        "\n",
        "\n"
      ],
      "metadata": {
        "id": "EE0GLYa5Eclj",
        "colab": {
          "base_uri": "https://localhost:8080/"
        },
        "outputId": "13767822-a15c-4594-d1a3-8fe49c21c73c"
      },
      "execution_count": 3,
      "outputs": [
        {
          "output_type": "stream",
          "name": "stdout",
          "text": [
            "{'a': 5, 'c': 15}\n",
            "{'a': 5}\n"
          ]
        }
      ]
    },
    {
      "cell_type": "code",
      "source": [
        "#Addition using lambda function\n",
        "f = lambda a,b : a+b\n",
        "r= f(3,7)\n",
        "print(r)\n",
        "\n",
        "#OR\n",
        "print((lambda a,b:a+b)(3,7))"
      ],
      "metadata": {
        "colab": {
          "base_uri": "https://localhost:8080/"
        },
        "id": "P5s3mG3XMiY5",
        "outputId": "0a691a82-f8a3-48c3-8a81-ec9b10a423de"
      },
      "execution_count": 6,
      "outputs": [
        {
          "output_type": "stream",
          "name": "stdout",
          "text": [
            "10\n",
            "10\n"
          ]
        }
      ]
    },
    {
      "cell_type": "code",
      "source": [
        "#Finding factorial using lambda function\n",
        "f = lambda n: 1 if n==0 else n*f(n-1)\n",
        "f(4)"
      ],
      "metadata": {
        "colab": {
          "base_uri": "https://localhost:8080/"
        },
        "id": "5gENmhIANEr1",
        "outputId": "92538c07-c385-477c-e280-782cdffc86aa"
      },
      "execution_count": 10,
      "outputs": [
        {
          "output_type": "execute_result",
          "data": {
            "text/plain": [
              "24"
            ]
          },
          "metadata": {},
          "execution_count": 10
        }
      ]
    },
    {
      "cell_type": "code",
      "source": [
        "num = int(input(\"Enter the number \"))\n",
        "factorial = 1\n",
        "if num<0 :\n",
        "  print(\"not possible\")\n",
        "elif num == 0:\n",
        "  print(\"factorial is 1\")\n",
        "elif num>0:\n",
        "  for i in range(1,num+1):\n",
        "    factorial = factorial*i\n",
        "  print(factorial)\n"
      ],
      "metadata": {
        "colab": {
          "base_uri": "https://localhost:8080/"
        },
        "id": "D76qv-YXNbD6",
        "outputId": "45442ae4-0f69-4978-da29-9aaa1ee229b8"
      },
      "execution_count": 13,
      "outputs": [
        {
          "output_type": "stream",
          "name": "stdout",
          "text": [
            "Enter the number 5\n",
            "120\n"
          ]
        }
      ]
    },
    {
      "cell_type": "code",
      "source": [
        "#List compression (to create a list in single)\n",
        "list1 = [23,43,44,23,24,76,54,65,87,88]\n",
        "l1 = [e for e in list1 if e%2==0]\n",
        "print(l1)\n"
      ],
      "metadata": {
        "colab": {
          "base_uri": "https://localhost:8080/"
        },
        "id": "702d7RorO9nK",
        "outputId": "a51a20f2-ee9c-4aaa-e6ac-2dbb38062cce"
      },
      "execution_count": 14,
      "outputs": [
        {
          "output_type": "stream",
          "name": "stdout",
          "text": [
            "[44, 24, 76, 54, 88]\n"
          ]
        }
      ]
    },
    {
      "cell_type": "code",
      "source": [
        "list1 = [23,43,44,23,24,76,54,65,87,88]\n",
        "\n",
        "l1 = []\n",
        "for i in list1:\n",
        "  if i%2 == 0:\n",
        "   l1.append(i)\n",
        "print(l1)"
      ],
      "metadata": {
        "colab": {
          "base_uri": "https://localhost:8080/"
        },
        "id": "maGBrL2MQPwT",
        "outputId": "fb0ce036-4c44-4d65-9857-2675c7e8af21"
      },
      "execution_count": 17,
      "outputs": [
        {
          "output_type": "stream",
          "name": "stdout",
          "text": [
            "[44, 24, 76, 54, 88]\n"
          ]
        }
      ]
    },
    {
      "cell_type": "code",
      "source": [
        "#What is use of split and join function of str\n",
        "s=\"what is right in your mind is right in your world\"\n",
        "s1= s.split(\" \")\n",
        "print(s1)\n",
        "s1 =s1[::-1]\n",
        "print(s1)\n",
        "print(\" \".join(s1))"
      ],
      "metadata": {
        "colab": {
          "base_uri": "https://localhost:8080/"
        },
        "id": "Jf_qJwF1Qlmk",
        "outputId": "1a72808b-ca7d-4ed0-c16a-6662b96aa89f"
      },
      "execution_count": 19,
      "outputs": [
        {
          "output_type": "stream",
          "name": "stdout",
          "text": [
            "['what', 'is', 'right', 'in', 'your', 'mind', 'is', 'right', 'in', 'your', 'world']\n",
            "['world', 'your', 'in', 'right', 'is', 'mind', 'your', 'in', 'right', 'is', 'what']\n",
            "world your in right is mind your in right is what\n"
          ]
        }
      ]
    },
    {
      "cell_type": "code",
      "source": [
        "#Global and local variable\n",
        "x= 5 #Global variable\n",
        "def f1():\n",
        "  global x\n",
        "  x=15\n",
        "  y=10\n",
        "  print(\"x=%d y=%d\"%(x,y))\n",
        "f1()\n",
        "print(x)"
      ],
      "metadata": {
        "colab": {
          "base_uri": "https://localhost:8080/"
        },
        "id": "OriOHwAtRkfk",
        "outputId": "6e00a6c1-face-4022-b32e-043c95776f5b"
      },
      "execution_count": 20,
      "outputs": [
        {
          "output_type": "stream",
          "name": "stdout",
          "text": [
            "x=15 y=10\n",
            "15\n"
          ]
        }
      ]
    },
    {
      "cell_type": "code",
      "source": [
        "#Global functions\n",
        "x = 5\n",
        "y=7\n",
        "def fun():\n",
        "  x= 10\n",
        "  d= globals()\n",
        "  print(\"local x=%d global x=%d\"%(x,d['x']))\n",
        "\n",
        "fun()"
      ],
      "metadata": {
        "colab": {
          "base_uri": "https://localhost:8080/"
        },
        "id": "HFrJ6Z3IWfNF",
        "outputId": "e191bd63-f222-496a-e153-dbb2e3d2e071"
      },
      "execution_count": 1,
      "outputs": [
        {
          "output_type": "stream",
          "name": "stdout",
          "text": [
            "local x=10 global x=5\n"
          ]
        }
      ]
    },
    {
      "cell_type": "code",
      "source": [
        "def welcome(fx):\n",
        "  def mfx(*t,**d):\n",
        "    print(\"Before hello function\")\n",
        "    fx(*t,**d)\n",
        "    print(\"Thanks for using the function\")\n",
        "  return mfx\n",
        "\n",
        "#decorator function without arguments\n",
        "@welcome\n",
        "def hello():\n",
        "  print(\"Hello!\")\n",
        "\n",
        "#decorator function with arguments\n",
        "def add(a,b):\n",
        "  print(a+b)\n",
        "\n",
        "hello()\n",
        "add(1,3)\n",
        "\n"
      ],
      "metadata": {
        "colab": {
          "base_uri": "https://localhost:8080/"
        },
        "id": "juw4EKf8W6Wn",
        "outputId": "7eeca5ae-d1e4-45ce-ce8d-7d85434a223e"
      },
      "execution_count": 3,
      "outputs": [
        {
          "output_type": "stream",
          "name": "stdout",
          "text": [
            "Before hello function\n",
            "Hello!\n",
            "Thanks for using the function\n",
            "4\n"
          ]
        }
      ]
    },
    {
      "cell_type": "code",
      "source": [
        "#Create a generator for first n nautural even numbers\n",
        "\n",
        "def evennum(n):\n",
        "  i = 1\n",
        "  while n:\n",
        "    yield 2*i\n",
        "    i += 1\n",
        "    n -= 1\n",
        "\n",
        "it = evennum(int(input()))\n",
        "even_list = []\n",
        "while True:\n",
        "  try:\n",
        "    even_list.append(next(it))\n",
        "  except StopIteration:\n",
        "    break\n",
        "print(even_list)"
      ],
      "metadata": {
        "colab": {
          "base_uri": "https://localhost:8080/"
        },
        "id": "cpv3dUZU7RdV",
        "outputId": "3114e705-94f0-4030-c995-b4341ab3d490"
      },
      "execution_count": 5,
      "outputs": [
        {
          "output_type": "stream",
          "name": "stdout",
          "text": [
            "5\n",
            "[2, 4, 6, 8, 10]\n"
          ]
        }
      ]
    },
    {
      "cell_type": "code",
      "source": [
        "#HOw to use else with loop in python\n",
        "\n",
        "i = 1\n",
        "while i<=4:\n",
        "  print (i, end = \" \")\n",
        "  if i == 5:\n",
        "    break\n",
        "  i+= 1\n",
        "else:\n",
        "  print(\"else block\")\n"
      ],
      "metadata": {
        "colab": {
          "base_uri": "https://localhost:8080/"
        },
        "id": "Rzw8dUgpCTdC",
        "outputId": "8fb1f805-6a38-4592-d422-c820b8d18f14"
      },
      "execution_count": 16,
      "outputs": [
        {
          "output_type": "stream",
          "name": "stdout",
          "text": [
            "1 2 3 4 else block\n"
          ]
        }
      ]
    },
    {
      "cell_type": "code",
      "source": [
        "#Class object and Instance Object\n",
        "\n",
        "class test:\n",
        "  x=20\n",
        "  def __init__(self,a,b):\n",
        "    self.a = a       #instance member argument\n",
        "    self.b = b       #instance member argument\n",
        "  def show(self):\n",
        "\n",
        "    print(self.a,self.b)\n",
        "\n",
        "print(test.x)#class object\n",
        "t1 = test(4,5)#instance object\n",
        "t1.show()\n",
        "\n",
        "#Displaying instance variable directly\n",
        "print(t1.a)\n",
        "print(t1.b)"
      ],
      "metadata": {
        "colab": {
          "base_uri": "https://localhost:8080/"
        },
        "id": "KSqK5QlWEHnr",
        "outputId": "392c4011-60de-40d4-e9bb-8fabbef3b506"
      },
      "execution_count": 19,
      "outputs": [
        {
          "output_type": "stream",
          "name": "stdout",
          "text": [
            "20\n",
            "4 5\n",
            "4\n",
            "5\n"
          ]
        }
      ]
    }
  ]
}