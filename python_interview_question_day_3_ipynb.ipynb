{
  "nbformat": 4,
  "nbformat_minor": 0,
  "metadata": {
    "colab": {
      "provenance": [],
      "authorship_tag": "ABX9TyPMvLUMWiSD8NoYjPk4+XlM",
      "include_colab_link": true
    },
    "kernelspec": {
      "name": "python3",
      "display_name": "Python 3"
    },
    "language_info": {
      "name": "python"
    }
  },
  "cells": [
    {
      "cell_type": "markdown",
      "metadata": {
        "id": "view-in-github",
        "colab_type": "text"
      },
      "source": [
        "<a href=\"https://colab.research.google.com/github/abhishek0478/Python-data-analysis-projects/blob/main/python_interview_question_day_3_ipynb.ipynb\" target=\"_parent\"><img src=\"https://colab.research.google.com/assets/colab-badge.svg\" alt=\"Open In Colab\"/></a>"
      ]
    },
    {
      "cell_type": "code",
      "execution_count": 1,
      "metadata": {
        "colab": {
          "base_uri": "https://localhost:8080/"
        },
        "id": "6-kKTpFShasA",
        "outputId": "92901b45-7482-496b-9e1d-369f47c94679"
      },
      "outputs": [
        {
          "output_type": "stream",
          "name": "stdout",
          "text": [
            "10 20\n"
          ]
        }
      ],
      "source": [
        "#Init method in python\n",
        "class test:\n",
        "  def __init__(self):\n",
        "    self.a = 10\n",
        "    self.b = 20\n",
        "\n",
        "t1 = test()\n",
        "print(t1.a,t1.b)\n"
      ]
    },
    {
      "cell_type": "code",
      "source": [
        "#Default arguments in function\n",
        "def add(a,b,c=5):\n",
        "  return(a+b+c)\n",
        "\n",
        "s= add(2,3)\n",
        "print(s)"
      ],
      "metadata": {
        "colab": {
          "base_uri": "https://localhost:8080/"
        },
        "id": "8PM_JaAWi28G",
        "outputId": "65d78dea-96d5-486f-d30a-a58cf6beae02"
      },
      "execution_count": 6,
      "outputs": [
        {
          "output_type": "stream",
          "name": "stdout",
          "text": [
            "10\n"
          ]
        }
      ]
    },
    {
      "cell_type": "code",
      "source": [
        "#Extract int type value from hetrogenous element present in a list\n",
        "l1= ['abc',34.56,32,3+4j,'b',55,65.7,40,'90',180]\n",
        "print(l1)\n",
        "l2 = []\n",
        "\n",
        "for e in l1:\n",
        "  if type(e)==  int:\n",
        "    l2.append(e)\n",
        "print(l2)\n"
      ],
      "metadata": {
        "id": "yf-F7NtRjVlV"
      },
      "execution_count": null,
      "outputs": []
    },
    {
      "cell_type": "code",
      "source": [
        "#Check whether number is prime or not\n",
        "num = int(input())\n",
        "for i in range(2,num):\n",
        "  if num%i == 0:\n",
        "    print(\"NOt prime\")\n",
        "    break\n",
        "else:\n",
        "    print(\"PRime number\")"
      ],
      "metadata": {
        "id": "wmPTLq4Zk0_L"
      },
      "execution_count": null,
      "outputs": []
    },
    {
      "cell_type": "code",
      "source": [
        "#Write a program to find GCD of two numbers -- (HCF)\n",
        "\n",
        "num1= int(input())\n",
        "num2 = int(input())\n",
        "\n",
        "def gcd(a,b):\n",
        "  if a == 0 or a==b:\n",
        "    return b\n",
        "  elif b == 0:\n",
        "    return a\n",
        "  elif a>b:\n",
        "    return gcd(a-b,b)\n",
        "  return gcd(a,b-a)\n",
        "\n",
        "gcd(num1, num2)\n"
      ],
      "metadata": {
        "colab": {
          "base_uri": "https://localhost:8080/"
        },
        "id": "6T47GiCilO2R",
        "outputId": "adc68cc1-37e1-4390-8040-f8a074b35915"
      },
      "execution_count": 3,
      "outputs": [
        {
          "name": "stdout",
          "output_type": "stream",
          "text": [
            "15\n",
            "8\n"
          ]
        },
        {
          "output_type": "execute_result",
          "data": {
            "text/plain": [
              "1"
            ]
          },
          "metadata": {},
          "execution_count": 3
        }
      ]
    },
    {
      "cell_type": "code",
      "source": [
        "#check if number is a spy number . Means sum of its digits equal to product of its digit\n",
        "n = int(input())\n",
        "m = n\n",
        "sum = 0\n",
        "prod= 1\n",
        "while m!= 0:\n",
        "  d = m%10\n",
        "  m=m//10\n",
        "  sum = sum+d\n",
        "  prod = prod*d\n",
        "\n",
        "if sum==prod:\n",
        "  print(\"Yes\")\n",
        "else:\n",
        "  print(\"No\")"
      ],
      "metadata": {
        "colab": {
          "base_uri": "https://localhost:8080/"
        },
        "id": "m1Ze5GqWqf4h",
        "outputId": "042b5f47-684f-4389-db1a-32ac1fdd0f08"
      },
      "execution_count": 7,
      "outputs": [
        {
          "output_type": "stream",
          "name": "stdout",
          "text": [
            "132\n",
            "Yes\n"
          ]
        }
      ]
    },
    {
      "cell_type": "code",
      "source": [],
      "metadata": {
        "id": "c9qcAMAnsyPw"
      },
      "execution_count": null,
      "outputs": []
    }
  ]
}