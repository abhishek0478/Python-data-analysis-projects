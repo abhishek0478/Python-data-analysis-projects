{
  "nbformat": 4,
  "nbformat_minor": 0,
  "metadata": {
    "colab": {
      "provenance": [],
      "authorship_tag": "ABX9TyP3rGPNSx7SAtY6oOt3njbn",
      "include_colab_link": true
    },
    "kernelspec": {
      "name": "python3",
      "display_name": "Python 3"
    },
    "language_info": {
      "name": "python"
    }
  },
  "cells": [
    {
      "cell_type": "markdown",
      "metadata": {
        "id": "view-in-github",
        "colab_type": "text"
      },
      "source": [
        "<a href=\"https://colab.research.google.com/github/abhishek0478/Python-data-analysis-projects/blob/main/Python_interview_questions%20Basic%20to%20advance.ipynb\" target=\"_parent\"><img src=\"https://colab.research.google.com/assets/colab-badge.svg\" alt=\"Open In Colab\"/></a>"
      ]
    },
    {
      "cell_type": "code",
      "execution_count": 2,
      "metadata": {
        "colab": {
          "base_uri": "https://localhost:8080/"
        },
        "id": "5rjkm5izxlnj",
        "outputId": "ad24be49-2ede-4252-f909-587061e9bb6c"
      },
      "outputs": [
        {
          "output_type": "stream",
          "name": "stdout",
          "text": [
            "2\n"
          ]
        }
      ],
      "source": [
        "#Counting of number of occurences in a word\n",
        "\n",
        "word = \"programming\"\n",
        "character = 'g'\n",
        "count = 0\n",
        "for i in word:\n",
        "  if i == character:\n",
        "    count +=1\n",
        "print(count)"
      ]
    },
    {
      "cell_type": "code",
      "source": [
        "# writing fibbonaci series\n",
        "fib = [0,1]\n",
        "n = 5\n",
        "for i in range(n):\n",
        "  fib.append(fib[-1]+fib[-2])\n",
        "\n",
        "print(','.join(str(e) for e in fib))\n"
      ],
      "metadata": {
        "colab": {
          "base_uri": "https://localhost:8080/"
        },
        "id": "Y0-KMRHzyFVn",
        "outputId": "f876eeda-2291-4512-da50-b3ef07f9382d"
      },
      "execution_count": 3,
      "outputs": [
        {
          "output_type": "stream",
          "name": "stdout",
          "text": [
            "0,1,1,2,3,5,8\n"
          ]
        }
      ]
    },
    {
      "cell_type": "code",
      "source": [
        "#Finding the maximum number in a list\n",
        "\n",
        "numlist = [12,3,55,23,6,78,33,4]\n",
        "max = numlist[0]\n",
        "for num in numlist:\n",
        "  if max<num:\n",
        "    max = num\n",
        "print(max)"
      ],
      "metadata": {
        "colab": {
          "base_uri": "https://localhost:8080/"
        },
        "id": "a-f0LumZzyD_",
        "outputId": "0e42e938-c460-4fbb-f683-fc1cb09d9f11"
      },
      "execution_count": 5,
      "outputs": [
        {
          "output_type": "stream",
          "name": "stdout",
          "text": [
            "78\n"
          ]
        }
      ]
    },
    {
      "cell_type": "code",
      "source": [
        "# Finding the minimum number in the list\n",
        "numlist = [12,3,55,23,6,78,33,4]\n",
        "min = numlist[0]\n",
        "for num in numlist:\n",
        "  if min>num:\n",
        "    min = num\n",
        "    print(min)"
      ],
      "metadata": {
        "colab": {
          "base_uri": "https://localhost:8080/"
        },
        "id": "g8430Zot1CvM",
        "outputId": "c2be6257-191d-42c1-ddf9-8c6da06c42f6"
      },
      "execution_count": 8,
      "outputs": [
        {
          "output_type": "stream",
          "name": "stdout",
          "text": [
            "3\n"
          ]
        }
      ]
    },
    {
      "cell_type": "code",
      "source": [
        "#Finding the middle element in a list\n",
        "numlist = [12,3,55,23,6,78,33,5,34]\n",
        "midelement = int((len(numlist)/2))\n",
        "print(numlist[midelement])"
      ],
      "metadata": {
        "colab": {
          "base_uri": "https://localhost:8080/"
        },
        "id": "9dW9o4Ix15jN",
        "outputId": "0ad29dfb-ca3b-4ddb-eaee-039f2f976c54"
      },
      "execution_count": 10,
      "outputs": [
        {
          "output_type": "stream",
          "name": "stdout",
          "text": [
            "6\n"
          ]
        }
      ]
    },
    {
      "cell_type": "code",
      "source": [
        "#Converting a list into a string\n",
        "list = [\"p\",\"y\",\"t\",\"h\",\"o\",\"n\"]\n",
        "string= \"\".join(list)\n",
        "print(string)"
      ],
      "metadata": {
        "colab": {
          "base_uri": "https://localhost:8080/"
        },
        "id": "yf7VnVdL2c3M",
        "outputId": "8e14f168-c7f1-47d4-f43e-259ded2d70ac"
      },
      "execution_count": 11,
      "outputs": [
        {
          "output_type": "stream",
          "name": "stdout",
          "text": [
            "python\n"
          ]
        }
      ]
    },
    {
      "cell_type": "code",
      "source": [
        "#Adding two list element together\n",
        "lst1 = [1,2,3]\n",
        "lst2 = [4,5,6]\n",
        "\n",
        "res_lst = []\n",
        "for i in range(0, len(lst1)):\n",
        "  res_lst.append(lst1[i] +lst2[i])\n",
        "print(res_lst)"
      ],
      "metadata": {
        "colab": {
          "base_uri": "https://localhost:8080/"
        },
        "id": "123b67CC22zg",
        "outputId": "b3ef1310-1300-485a-db4f-fbbccf08f75e"
      },
      "execution_count": 13,
      "outputs": [
        {
          "output_type": "stream",
          "name": "stdout",
          "text": [
            "[5, 7, 9]\n"
          ]
        }
      ]
    },
    {
      "cell_type": "code",
      "source": [
        "#Comapring 2 strings for anagrams\n",
        "str1 = \"listen\"\n",
        "str2 = \"silent\"\n",
        "\n",
        "str1.replace(\" \",\"\").upper()\n",
        "str2.replace(\" \",\"\").upper()\n",
        "\n",
        "if sorted(str1) == sorted(str2):\n",
        "  print(\"anagrams\")\n",
        "else:\n",
        "  print(\"not anagrams\")\n",
        "\n"
      ],
      "metadata": {
        "colab": {
          "base_uri": "https://localhost:8080/"
        },
        "id": "wiWXDDUy3rSV",
        "outputId": "2da0ab50-fc1c-4fa3-bb9b-654389454427"
      },
      "execution_count": 15,
      "outputs": [
        {
          "output_type": "stream",
          "name": "stdout",
          "text": [
            "anagrams\n"
          ]
        }
      ]
    },
    {
      "cell_type": "code",
      "source": [
        "#Checking for palindrome\n",
        "str1 = \"kayak\".lower()\n",
        "\n",
        "if str1 ==str1[::-1]:\n",
        "  print(True)\n",
        "else:\n",
        "  print(False)"
      ],
      "metadata": {
        "colab": {
          "base_uri": "https://localhost:8080/"
        },
        "id": "b-9bL4NE4O70",
        "outputId": "9555d1b2-6e31-4655-98cc-e13dddb4adab"
      },
      "execution_count": 16,
      "outputs": [
        {
          "output_type": "stream",
          "name": "stdout",
          "text": [
            "True\n"
          ]
        }
      ]
    },
    {
      "cell_type": "code",
      "source": [
        "#Counting Digits letters and spaces in the string\n",
        "import re\n",
        "\n",
        "name = \"Python is 1\"\n",
        "\n",
        "digitcount= re.sub(\"[^0-9]\",\"\",name)\n",
        "lettercount = re.sub(\"[^a-zA-Z]\",\"\", name)\n",
        "spacecount = re.findall(\"[\\s]\",name)\n",
        "\n",
        "print(len(digitcount))\n",
        "print(len(lettercount))\n",
        "print(len(spacecount))"
      ],
      "metadata": {
        "colab": {
          "base_uri": "https://localhost:8080/"
        },
        "id": "pwL5Nz8w4kwM",
        "outputId": "09baa2cc-aab3-4a10-f6f5-cd33b00320d4"
      },
      "execution_count": 17,
      "outputs": [
        {
          "output_type": "stream",
          "name": "stdout",
          "text": [
            "1\n",
            "8\n",
            "2\n"
          ]
        }
      ]
    },
    {
      "cell_type": "code",
      "source": [
        "from tokenize import Special\n",
        "#Counting special characters in a string\n",
        "def count_sp_char(string):\n",
        "  sp_char = \"!@#$%^&*()<>?/\\[]{};:~`\"\n",
        "  count = 0\n",
        "  for i in string :\n",
        "    if i in sp_char:\n",
        "      count+=1\n",
        "  return count\n",
        "\n",
        "text = \"Hello! How are you?#specialchars!123\"\n",
        "result = count_sp_char(text)\n",
        "print(result)\n"
      ],
      "metadata": {
        "colab": {
          "base_uri": "https://localhost:8080/"
        },
        "id": "HJHGOF2z5hdW",
        "outputId": "6eb84309-9685-4967-eaeb-ad4af5abacf9"
      },
      "execution_count": 18,
      "outputs": [
        {
          "output_type": "stream",
          "name": "stdout",
          "text": [
            "4\n"
          ]
        }
      ]
    },
    {
      "cell_type": "code",
      "source": [
        "#Building a pyramid in python\n",
        "def pyramid(n):\n",
        "  for i in range(n):\n",
        "    for j in range(i,n):\n",
        "      print(\" \",end = \"\")\n",
        "    for j in range(i+1):\n",
        "      print(\"*\",end = \"\")\n",
        "    print(\"\")\n",
        "pyramid(5)"
      ],
      "metadata": {
        "colab": {
          "base_uri": "https://localhost:8080/"
        },
        "id": "8hfMopbU6jJA",
        "outputId": "a83eccaa-bb80-40ff-b488-e762bfc55041"
      },
      "execution_count": 19,
      "outputs": [
        {
          "output_type": "stream",
          "name": "stdout",
          "text": [
            "     *\n",
            "    **\n",
            "   ***\n",
            "  ****\n",
            " *****\n"
          ]
        }
      ]
    },
    {
      "cell_type": "code",
      "source": [
        "#Randomizing the items of a list in python\n",
        "from random import shuffle\n",
        "\n",
        "lst = ['python','is','easy']\n",
        "shuffle(lst)\n",
        "print(lst)"
      ],
      "metadata": {
        "colab": {
          "base_uri": "https://localhost:8080/"
        },
        "id": "-8WElHHH8Xe2",
        "outputId": "8509a2c0-f4e2-4474-dd7d-ffe3154ad393"
      },
      "execution_count": 20,
      "outputs": [
        {
          "output_type": "stream",
          "name": "stdout",
          "text": [
            "['python', 'easy', 'is']\n"
          ]
        }
      ]
    },
    {
      "cell_type": "code",
      "source": [
        "#Create a generator to produce first n prime numbers\n",
        "\n",
        "def isprime(num):\n",
        "  for i in range(2,num):\n",
        "    if num%i == 0:\n",
        "      return False\n",
        "  return True\n",
        "\n",
        "def prime_generator(n):\n",
        "  num = 2\n",
        "  while n:\n",
        "    if isprime(num):\n",
        "      yield num\n",
        "      n-=1\n",
        "    num+=1\n",
        "\n",
        "x = int(input(\"enter no.of prime numbers required\"))\n",
        "it = prime_generator(x)\n",
        "for e in it:\n",
        "  print(e,end =\" \")"
      ],
      "metadata": {
        "colab": {
          "base_uri": "https://localhost:8080/"
        },
        "id": "IIcDhAJC8rCi",
        "outputId": "35045e24-f698-4c27-a0b9-ca46c8948351"
      },
      "execution_count": 22,
      "outputs": [
        {
          "output_type": "stream",
          "name": "stdout",
          "text": [
            "enter no.of prime numbers required5\n",
            "2 3 5 7 11 "
          ]
        }
      ]
    },
    {
      "cell_type": "code",
      "source": [
        "#Implementing variable lenght argument in python\n",
        "def Average(*t):\n",
        "  avg = sum(t)/len(t)\n",
        "  return avg\n",
        "result1 = Average(32,51,44,43,54,65,76,56)\n",
        "\n",
        "print(result1)\n",
        "\n"
      ],
      "metadata": {
        "colab": {
          "base_uri": "https://localhost:8080/"
        },
        "id": "QRv_DCCMDlAJ",
        "outputId": "f7843b2d-67b2-4af3-dde5-397388750f9c"
      },
      "execution_count": 23,
      "outputs": [
        {
          "output_type": "stream",
          "name": "stdout",
          "text": [
            "52.625\n"
          ]
        }
      ]
    },
    {
      "cell_type": "code",
      "source": [],
      "metadata": {
        "id": "EE0GLYa5Eclj"
      },
      "execution_count": null,
      "outputs": []
    }
  ]
}